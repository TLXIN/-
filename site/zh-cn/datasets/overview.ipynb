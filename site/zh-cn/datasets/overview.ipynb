{
  "cells": [
    {
      "cell_type": "markdown",
      "metadata": {
        "id": "6XvCUmCEd4Dm"
      },
      "source": [
        "# TensorFlow Datasets\n",
        "\n",
        "TFDS provides a collection of ready-to-use datasets for use with TensorFlow, Jax, and other Machine Learning frameworks.\n",
        "\n",
        "It handles downloading and preparing the data deterministically and constructing a `tf.data.Dataset` (or `np.array`).\n",
        "\n",
        "Note: Do not confuse [TFDS](https://tensorflow.google.cn/datasets) (this library) with `tf.data` (TensorFlow API to build efficient data pipelines). TFDS is a high level wrapper around `tf.data`. If you're not familiar with this API, we encourage you to read [the official tf.data guide](https://tensorflow.google.cn/guide/data) first.\n"
      ]
    },
    {
      "cell_type": "code",
      "source": [
        "pip install tensorflow-datasets\n",
        "pip install tfds-nightly"
      ],
      "metadata": {
        "id": "be09Fnr435sm",
        "outputId": "e4ec9a2b-335f-4db4-fb58-8691918fc62a",
        "colab": {
          "base_uri": "https://localhost:8080/",
          "height": 110
        }
      },
      "execution_count": 1,
      "outputs": [
        {
          "output_type": "error",
          "ename": "SyntaxError",
          "evalue": "invalid syntax (<ipython-input-1-9fdcc3c60953>, line 1)",
          "traceback": [
            "\u001b[0;36m  File \u001b[0;32m\"<ipython-input-1-9fdcc3c60953>\"\u001b[0;36m, line \u001b[0;32m1\u001b[0m\n\u001b[0;31m    pip install tensorflow-datasets\u001b[0m\n\u001b[0m        ^\u001b[0m\n\u001b[0;31mSyntaxError\u001b[0m\u001b[0;31m:\u001b[0m invalid syntax\n"
          ]
        }
      ]
    },
    {
      "cell_type": "markdown",
      "metadata": {
        "id": "J8y9ZkLXmAZc"
      },
      "source": [
        "Copyright 2018 The TensorFlow Datasets Authors, Licensed under the Apache License, Version 2.0"
      ]
    },
    {
      "cell_type": "markdown",
      "metadata": {
        "id": "OGw9EgE0tC0C"
      },
      "source": [
        "<table class=\"tfo-notebook-buttons\" align=\"left\">\n",
        "  <td>     <a target=\"_blank\" href=\"https://tensorflow.google.cn/datasets/overview\"><img src=\"https://tensorflow.google.cn/images/tf_logo_32px.png\"><img src=\"https://tensorflow.google.cn/images/tf_logo_32px.png\"> 在 TensorFlow.org 上查看</a>   </td>\n",
        "  <td>     <a target=\"_blank\" href=\"https://colab.research.google.com/github/tensorflow/docs-l10n/blob/master/site/zh-cn/datasets/overview.ipynb\"><img src=\"https://tensorflow.google.cn/images/colab_logo_32px.png\">在 Google Colab 中运行</a> </td>\n",
        "  <td>     <a target=\"_blank\" href=\"https://github.com/tensorflow/docs-l10n/blob/master/site/zh-cn/datasets/overview.ipynb\"><img src=\"https://tensorflow.google.cn/images/GitHub-Mark-32px.png\">在 GitHub 上查看源代码</a> </td>\n",
        "  <td><a href=\"https://storage.googleapis.com/tensorflow_docs/docs-l10n/site/zh-cn/datasets/overview.ipynb\"><img src=\"https://tensorflow.google.cn/images/download_logo_32px.png\">下载笔记本</a></td>\n",
        "</table>"
      ]
    },
    {
      "cell_type": "markdown",
      "metadata": {
        "id": "_7hshda5eaGL"
      },
      "source": [
        "## 安装\n",
        "\n",
        "TFDS 存在于两个软件包中：\n",
        "\n",
        "- `pip install tensorflow-datasets`：稳定版，数月发行一次。\n",
        "- `pip install tfds-nightly`：每天发行，包含最近版本的数据集。\n",
        "\n",
        "此 colab 使用 `tfds-nightly`：\n"
      ]
    },
    {
      "cell_type": "code",
      "execution_count": 2,
      "metadata": {
        "cellView": "both",
        "id": "boeZp0sYbO41",
        "outputId": "66526353-c195-440b-8042-4a27f5cfea63",
        "colab": {
          "base_uri": "https://localhost:8080/"
        }
      },
      "outputs": [
        {
          "output_type": "stream",
          "name": "stdout",
          "text": [
            "\u001b[?25l   \u001b[90m━━━━━━━━━━━━━━━━━━━━━━━━━━━━━━━━━━━━━━━━\u001b[0m \u001b[32m0.0/5.3 MB\u001b[0m \u001b[31m?\u001b[0m eta \u001b[36m-:--:--\u001b[0m\r\u001b[2K   \u001b[91m╸\u001b[0m\u001b[90m━━━━━━━━━━━━━━━━━━━━━━━━━━━━━━━━━━━━━━━\u001b[0m \u001b[32m0.1/5.3 MB\u001b[0m \u001b[31m3.4 MB/s\u001b[0m eta \u001b[36m0:00:02\u001b[0m\r\u001b[2K   \u001b[91m━━━━━━\u001b[0m\u001b[90m╺\u001b[0m\u001b[90m━━━━━━━━━━━━━━━━━━━━━━━━━━━━━━━━━\u001b[0m \u001b[32m0.8/5.3 MB\u001b[0m \u001b[31m11.8 MB/s\u001b[0m eta \u001b[36m0:00:01\u001b[0m\r\u001b[2K   \u001b[91m━━━━━━━━━━━━━━━━━━━━━━━━━━━━━━━\u001b[0m\u001b[91m╸\u001b[0m\u001b[90m━━━━━━━━\u001b[0m \u001b[32m4.2/5.3 MB\u001b[0m \u001b[31m39.1 MB/s\u001b[0m eta \u001b[36m0:00:01\u001b[0m\r\u001b[2K   \u001b[91m━━━━━━━━━━━━━━━━━━━━━━━━━━━━━━━━━━━━━━━\u001b[0m\u001b[91m╸\u001b[0m \u001b[32m5.3/5.3 MB\u001b[0m \u001b[31m45.0 MB/s\u001b[0m eta \u001b[36m0:00:01\u001b[0m\r\u001b[2K   \u001b[90m━━━━━━━━━━━━━━━━━━━━━━━━━━━━━━━━━━━━━━━━\u001b[0m \u001b[32m5.3/5.3 MB\u001b[0m \u001b[31m31.1 MB/s\u001b[0m eta \u001b[36m0:00:00\u001b[0m\n",
            "\u001b[?25h"
          ]
        }
      ],
      "source": [
        "!pip install -q tfds-nightly tensorflow matplotlib"
      ]
    },
    {
      "cell_type": "code",
      "execution_count": 3,
      "metadata": {
        "id": "TTBSvHcSLBzc"
      },
      "outputs": [],
      "source": [
        "import matplotlib.pyplot as plt\n",
        "import numpy as np\n",
        "import tensorflow as tf\n",
        "\n",
        "import tensorflow_datasets as tfds"
      ]
    },
    {
      "cell_type": "markdown",
      "metadata": {
        "id": "VZZyuO13fPvk"
      },
      "source": [
        "## 查找可用的数据集\n",
        "\n",
        "所有数据集构建工具都是 `tfds.core.DatasetBuilder` 的子类。要获取可用构建工具的列表，请使用 `tfds.list_builders()` 或查看我们的[目录](https://tensorflow.google.cn/datasets/catalog/overview)。"
      ]
    },
    {
      "cell_type": "code",
      "execution_count": 4,
      "metadata": {
        "id": "FAvbSVzjLCIb",
        "outputId": "373dd7c5-2d46-4a96-95bc-6ab9489fb38f",
        "colab": {
          "base_uri": "https://localhost:8080/"
        }
      },
      "outputs": [
        {
          "output_type": "execute_result",
          "data": {
            "text/plain": [
              "['abstract_reasoning',\n",
              " 'accentdb',\n",
              " 'aeslc',\n",
              " 'aflw2k3d',\n",
              " 'ag_news_subset',\n",
              " 'ai2_arc',\n",
              " 'ai2_arc_with_ir',\n",
              " 'ai2dcaption',\n",
              " 'aloha_mobile',\n",
              " 'amazon_us_reviews',\n",
              " 'anli',\n",
              " 'answer_equivalence',\n",
              " 'arc',\n",
              " 'asqa',\n",
              " 'asset',\n",
              " 'assin2',\n",
              " 'asu_table_top_converted_externally_to_rlds',\n",
              " 'austin_buds_dataset_converted_externally_to_rlds',\n",
              " 'austin_sailor_dataset_converted_externally_to_rlds',\n",
              " 'austin_sirius_dataset_converted_externally_to_rlds',\n",
              " 'bair_robot_pushing_small',\n",
              " 'bc_z',\n",
              " 'bccd',\n",
              " 'beans',\n",
              " 'bee_dataset',\n",
              " 'beir',\n",
              " 'berkeley_autolab_ur5',\n",
              " 'berkeley_cable_routing',\n",
              " 'berkeley_fanuc_manipulation',\n",
              " 'berkeley_gnm_cory_hall',\n",
              " 'berkeley_gnm_recon',\n",
              " 'berkeley_gnm_sac_son',\n",
              " 'berkeley_mvp_converted_externally_to_rlds',\n",
              " 'berkeley_rpt_converted_externally_to_rlds',\n",
              " 'big_patent',\n",
              " 'bigearthnet',\n",
              " 'billsum',\n",
              " 'binarized_mnist',\n",
              " 'binary_alpha_digits',\n",
              " 'ble_wind_field',\n",
              " 'blimp',\n",
              " 'booksum',\n",
              " 'bool_q',\n",
              " 'bot_adversarial_dialogue',\n",
              " 'bridge',\n",
              " 'bridge_data_msr',\n",
              " 'bucc',\n",
              " 'c4',\n",
              " 'c4_wsrs',\n",
              " 'caltech101',\n",
              " 'caltech_birds2010',\n",
              " 'caltech_birds2011',\n",
              " 'cardiotox',\n",
              " 'cars196',\n",
              " 'cassava',\n",
              " 'cats_vs_dogs',\n",
              " 'celeb_a',\n",
              " 'celeb_a_hq',\n",
              " 'cfq',\n",
              " 'cherry_blossoms',\n",
              " 'chexpert',\n",
              " 'cifar10',\n",
              " 'cifar100',\n",
              " 'cifar100_n',\n",
              " 'cifar10_1',\n",
              " 'cifar10_corrupted',\n",
              " 'cifar10_h',\n",
              " 'cifar10_n',\n",
              " 'citrus_leaves',\n",
              " 'cityscapes',\n",
              " 'civil_comments',\n",
              " 'clevr',\n",
              " 'clic',\n",
              " 'clinc_oos',\n",
              " 'cmaterdb',\n",
              " 'cmu_franka_exploration_dataset_converted_externally_to_rlds',\n",
              " 'cmu_play_fusion',\n",
              " 'cmu_stretch',\n",
              " 'cnn_dailymail',\n",
              " 'coco',\n",
              " 'coco_captions',\n",
              " 'coil100',\n",
              " 'colorectal_histology',\n",
              " 'colorectal_histology_large',\n",
              " 'columbia_cairlab_pusht_real',\n",
              " 'common_voice',\n",
              " 'conll2002',\n",
              " 'conll2003',\n",
              " 'conq_hose_manipulation',\n",
              " 'controlled_noisy_web_labels',\n",
              " 'coqa',\n",
              " 'corr2cause',\n",
              " 'cos_e',\n",
              " 'cosmos_qa',\n",
              " 'covid19',\n",
              " 'covid19sum',\n",
              " 'crema_d',\n",
              " 'criteo',\n",
              " 'cs_restaurants',\n",
              " 'curated_breast_imaging_ddsm',\n",
              " 'cycle_gan',\n",
              " 'd4rl_adroit_door',\n",
              " 'd4rl_adroit_hammer',\n",
              " 'd4rl_adroit_pen',\n",
              " 'd4rl_adroit_relocate',\n",
              " 'd4rl_antmaze',\n",
              " 'd4rl_mujoco_ant',\n",
              " 'd4rl_mujoco_halfcheetah',\n",
              " 'd4rl_mujoco_hopper',\n",
              " 'd4rl_mujoco_walker2d',\n",
              " 'dart',\n",
              " 'databricks_dolly',\n",
              " 'davis',\n",
              " 'deep1b',\n",
              " 'deep_weeds',\n",
              " 'definite_pronoun_resolution',\n",
              " 'dementiabank',\n",
              " 'diabetic_retinopathy_detection',\n",
              " 'diamonds',\n",
              " 'dices',\n",
              " 'div2k',\n",
              " 'dlr_edan_shared_control_converted_externally_to_rlds',\n",
              " 'dlr_sara_grid_clamp_converted_externally_to_rlds',\n",
              " 'dlr_sara_pour_converted_externally_to_rlds',\n",
              " 'dmlab',\n",
              " 'dobbe',\n",
              " 'doc_nli',\n",
              " 'dolma',\n",
              " 'dolphin_number_word',\n",
              " 'domainnet',\n",
              " 'downsampled_imagenet',\n",
              " 'drop',\n",
              " 'dsprites',\n",
              " 'dtd',\n",
              " 'duke_ultrasound',\n",
              " 'e2e_cleaned',\n",
              " 'efron_morris75',\n",
              " 'emnist',\n",
              " 'eraser_multi_rc',\n",
              " 'esnli',\n",
              " 'eth_agent_affordances',\n",
              " 'eurosat',\n",
              " 'fashion_mnist',\n",
              " 'flic',\n",
              " 'flores',\n",
              " 'fmb',\n",
              " 'food101',\n",
              " 'forest_fires',\n",
              " 'fractal20220817_data',\n",
              " 'fuss',\n",
              " 'gap',\n",
              " 'geirhos_conflict_stimuli',\n",
              " 'gem',\n",
              " 'genomics_ood',\n",
              " 'german_credit_numeric',\n",
              " 'gigaword',\n",
              " 'glove100_angular',\n",
              " 'glue',\n",
              " 'goemotions',\n",
              " 'gov_report',\n",
              " 'gpt3',\n",
              " 'gref',\n",
              " 'groove',\n",
              " 'grounded_scan',\n",
              " 'gsm8k',\n",
              " 'gtzan',\n",
              " 'gtzan_music_speech',\n",
              " 'hellaswag',\n",
              " 'higgs',\n",
              " 'hillstrom',\n",
              " 'horses_or_humans',\n",
              " 'howell',\n",
              " 'i_naturalist2017',\n",
              " 'i_naturalist2018',\n",
              " 'i_naturalist2021',\n",
              " 'iamlab_cmu_pickup_insert_converted_externally_to_rlds',\n",
              " 'imagenet2012',\n",
              " 'imagenet2012_corrupted',\n",
              " 'imagenet2012_fewshot',\n",
              " 'imagenet2012_multilabel',\n",
              " 'imagenet2012_real',\n",
              " 'imagenet2012_subset',\n",
              " 'imagenet_a',\n",
              " 'imagenet_lt',\n",
              " 'imagenet_pi',\n",
              " 'imagenet_r',\n",
              " 'imagenet_resized',\n",
              " 'imagenet_sketch',\n",
              " 'imagenet_v2',\n",
              " 'imagenette',\n",
              " 'imagewang',\n",
              " 'imdb_reviews',\n",
              " 'imperialcollege_sawyer_wrist_cam',\n",
              " 'io_ai_tech',\n",
              " 'irc_disentanglement',\n",
              " 'iris',\n",
              " 'istella',\n",
              " 'jaco_play',\n",
              " 'kaist_nonprehensile_converted_externally_to_rlds',\n",
              " 'kddcup99',\n",
              " 'kitti',\n",
              " 'kmnist',\n",
              " 'kuka',\n",
              " 'laion400m',\n",
              " 'lambada',\n",
              " 'lfw',\n",
              " 'librispeech',\n",
              " 'librispeech_lm',\n",
              " 'libritts',\n",
              " 'ljspeech',\n",
              " 'lm1b',\n",
              " 'locomotion',\n",
              " 'lost_and_found',\n",
              " 'lsun',\n",
              " 'lvis',\n",
              " 'malaria',\n",
              " 'maniskill_dataset_converted_externally_to_rlds',\n",
              " 'math_dataset',\n",
              " 'math_qa',\n",
              " 'mctaco',\n",
              " 'media_sum',\n",
              " 'mimic_play',\n",
              " 'mlqa',\n",
              " 'mnist',\n",
              " 'mnist_corrupted',\n",
              " 'movie_lens',\n",
              " 'movie_rationales',\n",
              " 'movielens',\n",
              " 'moving_mnist',\n",
              " 'mrqa',\n",
              " 'mslr_web',\n",
              " 'mt_opt',\n",
              " 'mtnt',\n",
              " 'multi_news',\n",
              " 'multi_nli',\n",
              " 'multi_nli_mismatch',\n",
              " 'natural_instructions',\n",
              " 'natural_questions',\n",
              " 'natural_questions_open',\n",
              " 'newsroom',\n",
              " 'nsynth',\n",
              " 'nyu_depth_v2',\n",
              " 'nyu_door_opening_surprising_effectiveness',\n",
              " 'nyu_franka_play_dataset_converted_externally_to_rlds',\n",
              " 'nyu_rot_dataset_converted_externally_to_rlds',\n",
              " 'ogbg_molpcba',\n",
              " 'omniglot',\n",
              " 'open_images_challenge2019_detection',\n",
              " 'open_images_v4',\n",
              " 'openbookqa',\n",
              " 'opinion_abstracts',\n",
              " 'opinosis',\n",
              " 'opus',\n",
              " 'oxford_flowers102',\n",
              " 'oxford_iiit_pet',\n",
              " 'para_crawl',\n",
              " 'pass',\n",
              " 'patch_camelyon',\n",
              " 'paws_wiki',\n",
              " 'paws_x_wiki',\n",
              " 'penguins',\n",
              " 'pet_finder',\n",
              " 'pg19',\n",
              " 'piqa',\n",
              " 'places365_small',\n",
              " 'placesfull',\n",
              " 'plant_leaves',\n",
              " 'plant_village',\n",
              " 'plantae_k',\n",
              " 'plex_robosuite',\n",
              " 'pneumonia_mnist',\n",
              " 'protein_net',\n",
              " 'q_re_cc',\n",
              " 'qa4mre',\n",
              " 'qasc',\n",
              " 'qm9',\n",
              " 'quac',\n",
              " 'quality',\n",
              " 'quickdraw_bitmap',\n",
              " 'race',\n",
              " 'radon',\n",
              " 'real_toxicity_prompts',\n",
              " 'reddit',\n",
              " 'reddit_disentanglement',\n",
              " 'reddit_tifu',\n",
              " 'ref_coco',\n",
              " 'resisc45',\n",
              " 'rlu_atari',\n",
              " 'rlu_atari_checkpoints',\n",
              " 'rlu_atari_checkpoints_ordered',\n",
              " 'rlu_control_suite',\n",
              " 'rlu_dmlab_explore_object_rewards_few',\n",
              " 'rlu_dmlab_explore_object_rewards_many',\n",
              " 'rlu_dmlab_rooms_select_nonmatching_object',\n",
              " 'rlu_dmlab_rooms_watermaze',\n",
              " 'rlu_dmlab_seekavoid_arena01',\n",
              " 'rlu_locomotion',\n",
              " 'rlu_rwrl',\n",
              " 'robo_set',\n",
              " 'robomimic_mg',\n",
              " 'robomimic_mh',\n",
              " 'robomimic_ph',\n",
              " 'robonet',\n",
              " 'robosuite_panda_pick_place_can',\n",
              " 'roboturk',\n",
              " 'rock_paper_scissors',\n",
              " 'rock_you',\n",
              " 's3o4d',\n",
              " 'salient_span_wikipedia',\n",
              " 'samsum',\n",
              " 'savee',\n",
              " 'scan',\n",
              " 'scene_parse150',\n",
              " 'schema_guided_dialogue',\n",
              " 'sci_tail',\n",
              " 'scicite',\n",
              " 'scientific_papers',\n",
              " 'scrolls',\n",
              " 'segment_anything',\n",
              " 'sentiment140',\n",
              " 'shapes3d',\n",
              " 'sift1m',\n",
              " 'simpte',\n",
              " 'siscore',\n",
              " 'smallnorb',\n",
              " 'smart_buildings',\n",
              " 'smartwatch_gestures',\n",
              " 'snli',\n",
              " 'so2sat',\n",
              " 'speech_commands',\n",
              " 'spoc_robot',\n",
              " 'spoken_digit',\n",
              " 'squad',\n",
              " 'squad_question_generation',\n",
              " 'stanford_dogs',\n",
              " 'stanford_hydra_dataset_converted_externally_to_rlds',\n",
              " 'stanford_kuka_multimodal_dataset_converted_externally_to_rlds',\n",
              " 'stanford_mask_vit_converted_externally_to_rlds',\n",
              " 'stanford_online_products',\n",
              " 'stanford_robocook_converted_externally_to_rlds',\n",
              " 'star_cfq',\n",
              " 'starcraft_video',\n",
              " 'stl10',\n",
              " 'story_cloze',\n",
              " 'summscreen',\n",
              " 'sun397',\n",
              " 'super_glue',\n",
              " 'svhn_cropped',\n",
              " 'symmetric_solids',\n",
              " 'taco_play',\n",
              " 'tao',\n",
              " 'tatoeba',\n",
              " 'ted_hrlr_translate',\n",
              " 'ted_multi_translate',\n",
              " 'tedlium',\n",
              " 'tf_flowers',\n",
              " 'the300w_lp',\n",
              " 'tidybot',\n",
              " 'tiny_shakespeare',\n",
              " 'titanic',\n",
              " 'tokyo_u_lsmo_converted_externally_to_rlds',\n",
              " 'toto',\n",
              " 'trec',\n",
              " 'trivia_qa',\n",
              " 'tydi_qa',\n",
              " 'uc_merced',\n",
              " 'ucf101',\n",
              " 'ucsd_kitchen_dataset_converted_externally_to_rlds',\n",
              " 'ucsd_pick_and_place_dataset_converted_externally_to_rlds',\n",
              " 'uiuc_d3field',\n",
              " 'unified_qa',\n",
              " 'universal_dependencies',\n",
              " 'unnatural_instructions',\n",
              " 'usc_cloth_sim_converted_externally_to_rlds',\n",
              " 'user_libri_audio',\n",
              " 'user_libri_text',\n",
              " 'utaustin_mutex',\n",
              " 'utokyo_pr2_opening_fridge_converted_externally_to_rlds',\n",
              " 'utokyo_pr2_tabletop_manipulation_converted_externally_to_rlds',\n",
              " 'utokyo_saytap_converted_externally_to_rlds',\n",
              " 'utokyo_xarm_bimanual_converted_externally_to_rlds',\n",
              " 'utokyo_xarm_pick_and_place_converted_externally_to_rlds',\n",
              " 'vctk',\n",
              " 'vima_converted_externally_to_rlds',\n",
              " 'viola',\n",
              " 'visual_domain_decathlon',\n",
              " 'voc',\n",
              " 'voxceleb',\n",
              " 'voxforge',\n",
              " 'wake_vision',\n",
              " 'waymo_open_dataset',\n",
              " 'web_graph',\n",
              " 'web_nlg',\n",
              " 'web_questions',\n",
              " 'webvid',\n",
              " 'wider_face',\n",
              " 'wiki40b',\n",
              " 'wiki_auto',\n",
              " 'wiki_bio',\n",
              " 'wiki_dialog',\n",
              " 'wiki_table_questions',\n",
              " 'wiki_table_text',\n",
              " 'wikiann',\n",
              " 'wikihow',\n",
              " 'wikipedia',\n",
              " 'wikipedia_toxicity_subtypes',\n",
              " 'wine_quality',\n",
              " 'winogrande',\n",
              " 'wit',\n",
              " 'wit_kaggle',\n",
              " 'wmt13_translate',\n",
              " 'wmt14_translate',\n",
              " 'wmt15_translate',\n",
              " 'wmt16_translate',\n",
              " 'wmt17_translate',\n",
              " 'wmt18_translate',\n",
              " 'wmt19_translate',\n",
              " 'wmt_t2t_translate',\n",
              " 'wmt_translate',\n",
              " 'wordnet',\n",
              " 'wsc273',\n",
              " 'xnli',\n",
              " 'xquad',\n",
              " 'xsum',\n",
              " 'xtreme_pawsx',\n",
              " 'xtreme_pos',\n",
              " 'xtreme_s',\n",
              " 'xtreme_xnli',\n",
              " 'yahoo_ltrc',\n",
              " 'yelp_polarity_reviews',\n",
              " 'yes_no',\n",
              " 'youtube_vis',\n",
              " 'huggingface:acronym_identification',\n",
              " 'huggingface:ade_corpus_v2',\n",
              " 'huggingface:adv_glue',\n",
              " 'huggingface:adversarial_qa',\n",
              " 'huggingface:aeslc',\n",
              " 'huggingface:afrikaans_ner_corpus',\n",
              " 'huggingface:ag_news',\n",
              " 'huggingface:ai2_arc',\n",
              " 'huggingface:air_dialogue',\n",
              " 'huggingface:ajgt_twitter_ar',\n",
              " 'huggingface:allegro_reviews',\n",
              " 'huggingface:allocine',\n",
              " 'huggingface:alt',\n",
              " 'huggingface:amazon_polarity',\n",
              " 'huggingface:amazon_reviews_multi',\n",
              " 'huggingface:amazon_us_reviews',\n",
              " 'huggingface:ambig_qa',\n",
              " 'huggingface:americas_nli',\n",
              " 'huggingface:ami',\n",
              " 'huggingface:amttl',\n",
              " 'huggingface:anli',\n",
              " 'huggingface:app_reviews',\n",
              " 'huggingface:aqua_rat',\n",
              " 'huggingface:aquamuse',\n",
              " 'huggingface:ar_cov19',\n",
              " 'huggingface:ar_res_reviews',\n",
              " 'huggingface:ar_sarcasm',\n",
              " 'huggingface:arabic_billion_words',\n",
              " 'huggingface:arabic_pos_dialect',\n",
              " 'huggingface:arabic_speech_corpus',\n",
              " 'huggingface:arcd',\n",
              " 'huggingface:arsentd_lev',\n",
              " 'huggingface:art',\n",
              " 'huggingface:arxiv_dataset',\n",
              " 'huggingface:ascent_kb',\n",
              " 'huggingface:aslg_pc12',\n",
              " 'huggingface:asnq',\n",
              " 'huggingface:asset',\n",
              " 'huggingface:assin',\n",
              " 'huggingface:assin2',\n",
              " 'huggingface:atomic',\n",
              " 'huggingface:autshumato',\n",
              " 'huggingface:babi_qa',\n",
              " 'huggingface:banking77',\n",
              " 'huggingface:bbaw_egyptian',\n",
              " 'huggingface:bbc_hindi_nli',\n",
              " 'huggingface:bc2gm_corpus',\n",
              " 'huggingface:beans',\n",
              " 'huggingface:best2009',\n",
              " 'huggingface:bianet',\n",
              " 'huggingface:bible_para',\n",
              " 'huggingface:big_patent',\n",
              " 'huggingface:bigbench',\n",
              " 'huggingface:billsum',\n",
              " 'huggingface:bing_coronavirus_query_set',\n",
              " 'huggingface:biomrc',\n",
              " 'huggingface:biosses',\n",
              " 'huggingface:biwi_kinect_head_pose',\n",
              " 'huggingface:blbooks',\n",
              " 'huggingface:blbooksgenre',\n",
              " 'huggingface:blended_skill_talk',\n",
              " 'huggingface:blimp',\n",
              " 'huggingface:blog_authorship_corpus',\n",
              " 'huggingface:bn_hate_speech',\n",
              " 'huggingface:bnl_newspapers',\n",
              " 'huggingface:bookcorpus',\n",
              " 'huggingface:bookcorpusopen',\n",
              " 'huggingface:boolq',\n",
              " 'huggingface:bprec',\n",
              " 'huggingface:break_data',\n",
              " 'huggingface:brwac',\n",
              " 'huggingface:bsd_ja_en',\n",
              " 'huggingface:bswac',\n",
              " 'huggingface:c3',\n",
              " 'huggingface:c4',\n",
              " 'huggingface:cail2018',\n",
              " 'huggingface:caner',\n",
              " 'huggingface:capes',\n",
              " 'huggingface:casino',\n",
              " 'huggingface:catalonia_independence',\n",
              " 'huggingface:cats_vs_dogs',\n",
              " 'huggingface:cawac',\n",
              " 'huggingface:cbt',\n",
              " 'huggingface:cc100',\n",
              " 'huggingface:cc_news',\n",
              " 'huggingface:ccaligned_multilingual',\n",
              " 'huggingface:cdsc',\n",
              " 'huggingface:cdt',\n",
              " 'huggingface:cedr',\n",
              " 'huggingface:cfq',\n",
              " 'huggingface:chr_en',\n",
              " 'huggingface:cifar10',\n",
              " 'huggingface:cifar100',\n",
              " 'huggingface:circa',\n",
              " 'huggingface:civil_comments',\n",
              " 'huggingface:clickbait_news_bg',\n",
              " 'huggingface:climate_fever',\n",
              " 'huggingface:clinc_oos',\n",
              " 'huggingface:clue',\n",
              " 'huggingface:cmrc2018',\n",
              " 'huggingface:cmu_hinglish_dog',\n",
              " 'huggingface:cnn_dailymail',\n",
              " 'huggingface:coached_conv_pref',\n",
              " 'huggingface:coarse_discourse',\n",
              " 'huggingface:codah',\n",
              " 'huggingface:code_search_net',\n",
              " 'huggingface:code_x_glue_cc_clone_detection_big_clone_bench',\n",
              " 'huggingface:code_x_glue_cc_clone_detection_poj104',\n",
              " 'huggingface:code_x_glue_cc_cloze_testing_all',\n",
              " 'huggingface:code_x_glue_cc_cloze_testing_maxmin',\n",
              " 'huggingface:code_x_glue_cc_code_completion_line',\n",
              " 'huggingface:code_x_glue_cc_code_completion_token',\n",
              " 'huggingface:code_x_glue_cc_code_refinement',\n",
              " 'huggingface:code_x_glue_cc_code_to_code_trans',\n",
              " 'huggingface:code_x_glue_cc_defect_detection',\n",
              " 'huggingface:code_x_glue_ct_code_to_text',\n",
              " 'huggingface:code_x_glue_tc_nl_code_search_adv',\n",
              " 'huggingface:code_x_glue_tc_text_to_code',\n",
              " 'huggingface:code_x_glue_tt_text_to_text',\n",
              " 'huggingface:com_qa',\n",
              " 'huggingface:common_gen',\n",
              " 'huggingface:common_language',\n",
              " 'huggingface:common_voice',\n",
              " 'huggingface:commonsense_qa',\n",
              " 'huggingface:competition_math',\n",
              " 'huggingface:compguesswhat',\n",
              " 'huggingface:conceptnet5',\n",
              " 'huggingface:conceptual_12m',\n",
              " 'huggingface:conceptual_captions',\n",
              " 'huggingface:conll2000',\n",
              " 'huggingface:conll2002',\n",
              " 'huggingface:conll2003',\n",
              " 'huggingface:conll2012_ontonotesv5',\n",
              " 'huggingface:conllpp',\n",
              " 'huggingface:consumer-finance-complaints',\n",
              " 'huggingface:conv_ai',\n",
              " 'huggingface:conv_ai_2',\n",
              " 'huggingface:conv_ai_3',\n",
              " 'huggingface:conv_questions',\n",
              " 'huggingface:coqa',\n",
              " 'huggingface:cord19',\n",
              " 'huggingface:cornell_movie_dialog',\n",
              " 'huggingface:cos_e',\n",
              " 'huggingface:cosmos_qa',\n",
              " 'huggingface:counter',\n",
              " 'huggingface:covid_qa_castorini',\n",
              " 'huggingface:covid_qa_deepset',\n",
              " 'huggingface:covid_qa_ucsd',\n",
              " 'huggingface:covid_tweets_japanese',\n",
              " 'huggingface:covost2',\n",
              " 'huggingface:cppe-5',\n",
              " 'huggingface:craigslist_bargains',\n",
              " 'huggingface:crawl_domain',\n",
              " 'huggingface:crd3',\n",
              " 'huggingface:crime_and_punish',\n",
              " 'huggingface:crows_pairs',\n",
              " 'huggingface:cryptonite',\n",
              " 'huggingface:cs_restaurants',\n",
              " 'huggingface:cuad',\n",
              " 'huggingface:curiosity_dialogs',\n",
              " 'huggingface:daily_dialog',\n",
              " 'huggingface:dane',\n",
              " 'huggingface:danish_political_comments',\n",
              " 'huggingface:dart',\n",
              " 'huggingface:datacommons_factcheck',\n",
              " 'huggingface:dbpedia_14',\n",
              " 'huggingface:dbrd',\n",
              " 'huggingface:deal_or_no_dialog',\n",
              " 'huggingface:definite_pronoun_resolution',\n",
              " 'huggingface:dengue_filipino',\n",
              " 'huggingface:dialog_re',\n",
              " 'huggingface:diplomacy_detection',\n",
              " 'huggingface:disaster_response_messages',\n",
              " 'huggingface:discofuse',\n",
              " 'huggingface:discovery',\n",
              " 'huggingface:disfl_qa',\n",
              " 'huggingface:doc2dial',\n",
              " 'huggingface:docred',\n",
              " 'huggingface:doqa',\n",
              " 'huggingface:dream',\n",
              " 'huggingface:drop',\n",
              " 'huggingface:duorc',\n",
              " 'huggingface:dutch_social',\n",
              " 'huggingface:dyk',\n",
              " 'huggingface:e2e_nlg',\n",
              " 'huggingface:e2e_nlg_cleaned',\n",
              " 'huggingface:ecb',\n",
              " 'huggingface:ecthr_cases',\n",
              " 'huggingface:eduge',\n",
              " 'huggingface:ehealth_kd',\n",
              " 'huggingface:eitb_parcc',\n",
              " 'huggingface:electricity_load_diagrams',\n",
              " 'huggingface:eli5',\n",
              " 'huggingface:eli5_category',\n",
              " 'huggingface:elkarhizketak',\n",
              " 'huggingface:emea',\n",
              " 'huggingface:emo',\n",
              " 'huggingface:emotion',\n",
              " 'huggingface:emotone_ar',\n",
              " 'huggingface:empathetic_dialogues',\n",
              " 'huggingface:enriched_web_nlg',\n",
              " 'huggingface:enwik8',\n",
              " 'huggingface:eraser_multi_rc',\n",
              " 'huggingface:esnli',\n",
              " 'huggingface:eth_py150_open',\n",
              " 'huggingface:ethos',\n",
              " 'huggingface:ett',\n",
              " 'huggingface:eu_regulatory_ir',\n",
              " 'huggingface:eurlex',\n",
              " 'huggingface:euronews',\n",
              " 'huggingface:europa_eac_tm',\n",
              " 'huggingface:europa_ecdc_tm',\n",
              " 'huggingface:europarl_bilingual',\n",
              " 'huggingface:event2Mind',\n",
              " 'huggingface:evidence_infer_treatment',\n",
              " 'huggingface:exams',\n",
              " 'huggingface:factckbr',\n",
              " 'huggingface:fake_news_english',\n",
              " 'huggingface:fake_news_filipino',\n",
              " 'huggingface:farsi_news',\n",
              " 'huggingface:fashion_mnist',\n",
              " 'huggingface:fever',\n",
              " 'huggingface:few_rel',\n",
              " 'huggingface:financial_phrasebank',\n",
              " 'huggingface:finer',\n",
              " 'huggingface:flores',\n",
              " 'huggingface:flue',\n",
              " 'huggingface:food101',\n",
              " 'huggingface:fquad',\n",
              " 'huggingface:freebase_qa',\n",
              " 'huggingface:gap',\n",
              " 'huggingface:gem',\n",
              " 'huggingface:generated_reviews_enth',\n",
              " 'huggingface:generics_kb',\n",
              " 'huggingface:german_legal_entity_recognition',\n",
              " 'huggingface:germaner',\n",
              " 'huggingface:germeval_14',\n",
              " 'huggingface:giga_fren',\n",
              " 'huggingface:gigaword',\n",
              " 'huggingface:glucose',\n",
              " 'huggingface:glue',\n",
              " 'huggingface:gnad10',\n",
              " 'huggingface:go_emotions',\n",
              " 'huggingface:gooaq',\n",
              " 'huggingface:google_wellformed_query',\n",
              " 'huggingface:grail_qa',\n",
              " 'huggingface:great_code',\n",
              " 'huggingface:greek_legal_code',\n",
              " 'huggingface:gsm8k',\n",
              " 'huggingface:guardian_authorship',\n",
              " 'huggingface:gutenberg_time',\n",
              " 'huggingface:hans',\n",
              " 'huggingface:hansards',\n",
              " 'huggingface:hard',\n",
              " 'huggingface:harem',\n",
              " 'huggingface:has_part',\n",
              " 'huggingface:hate_offensive',\n",
              " 'huggingface:hate_speech18',\n",
              " 'huggingface:hate_speech_filipino',\n",
              " 'huggingface:hate_speech_offensive',\n",
              " 'huggingface:hate_speech_pl',\n",
              " 'huggingface:hate_speech_portuguese',\n",
              " 'huggingface:hatexplain',\n",
              " 'huggingface:hausa_voa_ner',\n",
              " 'huggingface:hausa_voa_topics',\n",
              " 'huggingface:hda_nli_hindi',\n",
              " 'huggingface:head_qa',\n",
              " 'huggingface:health_fact',\n",
              " 'huggingface:hebrew_projectbenyehuda',\n",
              " 'huggingface:hebrew_sentiment',\n",
              " 'huggingface:hebrew_this_world',\n",
              " 'huggingface:hellaswag',\n",
              " 'huggingface:hendrycks_test',\n",
              " 'huggingface:hind_encorp',\n",
              " 'huggingface:hindi_discourse',\n",
              " 'huggingface:hippocorpus',\n",
              " 'huggingface:hkcancor',\n",
              " 'huggingface:hlgd',\n",
              " 'huggingface:hope_edi',\n",
              " 'huggingface:hotpot_qa',\n",
              " 'huggingface:hover',\n",
              " 'huggingface:hrenwac_para',\n",
              " 'huggingface:hrwac',\n",
              " 'huggingface:humicroedit',\n",
              " 'huggingface:hybrid_qa',\n",
              " 'huggingface:hyperpartisan_news_detection',\n",
              " 'huggingface:iapp_wiki_qa_squad',\n",
              " 'huggingface:id_clickbait',\n",
              " 'huggingface:id_liputan6',\n",
              " 'huggingface:id_nergrit_corpus',\n",
              " 'huggingface:id_newspapers_2018',\n",
              " 'huggingface:id_panl_bppt',\n",
              " 'huggingface:id_puisi',\n",
              " 'huggingface:igbo_english_machine_translation',\n",
              " 'huggingface:igbo_monolingual',\n",
              " 'huggingface:igbo_ner',\n",
              " 'huggingface:ilist',\n",
              " 'huggingface:imagenet-1k',\n",
              " 'huggingface:imagenet_sketch',\n",
              " 'huggingface:imdb',\n",
              " 'huggingface:imdb_urdu_reviews',\n",
              " 'huggingface:imppres',\n",
              " 'huggingface:indic_glue',\n",
              " 'huggingface:indonli',\n",
              " 'huggingface:indonlu',\n",
              " 'huggingface:inquisitive_qg',\n",
              " 'huggingface:interpress_news_category_tr',\n",
              " 'huggingface:interpress_news_category_tr_lite',\n",
              " 'huggingface:irc_disentangle',\n",
              " 'huggingface:isixhosa_ner_corpus',\n",
              " 'huggingface:isizulu_ner_corpus',\n",
              " 'huggingface:iwslt2017',\n",
              " 'huggingface:jeopardy',\n",
              " 'huggingface:jfleg',\n",
              " 'huggingface:jigsaw_toxicity_pred',\n",
              " 'huggingface:jigsaw_unintended_bias',\n",
              " 'huggingface:jnlpba',\n",
              " 'huggingface:journalists_questions',\n",
              " 'huggingface:kan_hope',\n",
              " 'huggingface:kannada_news',\n",
              " 'huggingface:kd_conv',\n",
              " 'huggingface:kde4',\n",
              " 'huggingface:kelm',\n",
              " 'huggingface:kilt_tasks',\n",
              " 'huggingface:kilt_wikipedia',\n",
              " 'huggingface:kinnews_kirnews',\n",
              " 'huggingface:klue',\n",
              " 'huggingface:kor_3i4k',\n",
              " 'huggingface:kor_hate',\n",
              " 'huggingface:kor_ner',\n",
              " 'huggingface:kor_nli',\n",
              " 'huggingface:kor_nlu',\n",
              " 'huggingface:kor_qpair',\n",
              " 'huggingface:kor_sae',\n",
              " 'huggingface:kor_sarcasm',\n",
              " 'huggingface:labr',\n",
              " 'huggingface:lama',\n",
              " 'huggingface:lambada',\n",
              " 'huggingface:large_spanish_corpus',\n",
              " 'huggingface:laroseda',\n",
              " 'huggingface:lc_quad',\n",
              " 'huggingface:lccc',\n",
              " 'huggingface:lener_br',\n",
              " 'huggingface:lex_glue',\n",
              " 'huggingface:liar',\n",
              " 'huggingface:librispeech_asr',\n",
              " 'huggingface:librispeech_lm',\n",
              " 'huggingface:limit',\n",
              " 'huggingface:lince',\n",
              " 'huggingface:linnaeus',\n",
              " 'huggingface:liveqa',\n",
              " 'huggingface:lj_speech',\n",
              " 'huggingface:lm1b',\n",
              " 'huggingface:lst20',\n",
              " 'huggingface:m_lama',\n",
              " 'huggingface:mac_morpho',\n",
              " 'huggingface:makhzan',\n",
              " 'huggingface:masakhaner',\n",
              " 'huggingface:math_dataset',\n",
              " 'huggingface:math_qa',\n",
              " 'huggingface:matinf',\n",
              " 'huggingface:mbpp',\n",
              " 'huggingface:mc4',\n",
              " 'huggingface:mc_taco',\n",
              " 'huggingface:md_gender_bias',\n",
              " 'huggingface:mdd',\n",
              " 'huggingface:med_hop',\n",
              " 'huggingface:medal',\n",
              " 'huggingface:medical_dialog',\n",
              " 'huggingface:medical_questions_pairs',\n",
              " 'huggingface:medmcqa',\n",
              " 'huggingface:menyo20k_mt',\n",
              " 'huggingface:meta_woz',\n",
              " 'huggingface:metashift',\n",
              " 'huggingface:metooma',\n",
              " 'huggingface:metrec',\n",
              " 'huggingface:miam',\n",
              " 'huggingface:mkb',\n",
              " 'huggingface:mkqa',\n",
              " 'huggingface:mlqa',\n",
              " 'huggingface:mlsum',\n",
              " 'huggingface:mnist',\n",
              " 'huggingface:mocha',\n",
              " 'huggingface:monash_tsf',\n",
              " 'huggingface:moroco',\n",
              " 'huggingface:movie_rationales',\n",
              " 'huggingface:mrqa',\n",
              " 'huggingface:ms_marco',\n",
              " 'huggingface:ms_terms',\n",
              " 'huggingface:msr_genomics_kbcomp',\n",
              " 'huggingface:msr_sqa',\n",
              " 'huggingface:msr_text_compression',\n",
              " 'huggingface:msr_zhen_translation_parity',\n",
              " 'huggingface:msra_ner',\n",
              " 'huggingface:mt_eng_vietnamese',\n",
              " 'huggingface:muchocine',\n",
              " 'huggingface:multi_booked',\n",
              " 'huggingface:multi_eurlex',\n",
              " 'huggingface:multi_news',\n",
              " 'huggingface:multi_nli',\n",
              " 'huggingface:multi_nli_mismatch',\n",
              " 'huggingface:multi_para_crawl',\n",
              " 'huggingface:multi_re_qa',\n",
              " 'huggingface:multi_woz_v22',\n",
              " 'huggingface:multi_x_science_sum',\n",
              " 'huggingface:multidoc2dial',\n",
              " 'huggingface:multilingual_librispeech',\n",
              " 'huggingface:mutual_friends',\n",
              " 'huggingface:mwsc',\n",
              " 'huggingface:myanmar_news',\n",
              " 'huggingface:narrativeqa',\n",
              " 'huggingface:narrativeqa_manual',\n",
              " 'huggingface:natural_questions',\n",
              " 'huggingface:ncbi_disease',\n",
              " 'huggingface:nchlt',\n",
              " 'huggingface:ncslgr',\n",
              " 'huggingface:nell',\n",
              " 'huggingface:neural_code_search',\n",
              " 'huggingface:news_commentary',\n",
              " 'huggingface:newsgroup',\n",
              " 'huggingface:newsph',\n",
              " 'huggingface:newsph_nli',\n",
              " 'huggingface:newspop',\n",
              " 'huggingface:newsqa',\n",
              " 'huggingface:newsroom',\n",
              " 'huggingface:nkjp-ner',\n",
              " 'huggingface:nli_tr',\n",
              " 'huggingface:nlu_evaluation_data',\n",
              " 'huggingface:norec',\n",
              " 'huggingface:norne',\n",
              " 'huggingface:norwegian_ner',\n",
              " 'huggingface:nq_open',\n",
              " 'huggingface:nsmc',\n",
              " 'huggingface:numer_sense',\n",
              " 'huggingface:numeric_fused_head',\n",
              " 'huggingface:oclar',\n",
              " 'huggingface:offcombr',\n",
              " 'huggingface:offenseval2020_tr',\n",
              " 'huggingface:offenseval_dravidian',\n",
              " 'huggingface:ofis_publik',\n",
              " 'huggingface:ohsumed',\n",
              " 'huggingface:ollie',\n",
              " 'huggingface:omp',\n",
              " 'huggingface:onestop_english',\n",
              " 'huggingface:onestop_qa',\n",
              " 'huggingface:open_subtitles',\n",
              " 'huggingface:openai_humaneval',\n",
              " 'huggingface:openbookqa',\n",
              " 'huggingface:openslr',\n",
              " 'huggingface:openwebtext',\n",
              " 'huggingface:opinosis',\n",
              " 'huggingface:opus100',\n",
              " 'huggingface:opus_books',\n",
              " 'huggingface:opus_dgt',\n",
              " 'huggingface:opus_dogc',\n",
              " 'huggingface:opus_elhuyar',\n",
              " 'huggingface:opus_euconst',\n",
              " 'huggingface:opus_finlex',\n",
              " 'huggingface:opus_fiskmo',\n",
              " 'huggingface:opus_gnome',\n",
              " 'huggingface:opus_infopankki',\n",
              " 'huggingface:opus_memat',\n",
              " 'huggingface:opus_montenegrinsubs',\n",
              " 'huggingface:opus_openoffice',\n",
              " 'huggingface:opus_paracrawl',\n",
              " 'huggingface:opus_rf',\n",
              " 'huggingface:opus_tedtalks',\n",
              " 'huggingface:opus_ubuntu',\n",
              " 'huggingface:opus_wikipedia',\n",
              " 'huggingface:opus_xhosanavy',\n",
              " 'huggingface:orange_sum',\n",
              " 'huggingface:oscar',\n",
              " 'huggingface:para_crawl',\n",
              " 'huggingface:para_pat',\n",
              " 'huggingface:parsinlu_reading_comprehension',\n",
              " 'huggingface:pass',\n",
              " 'huggingface:paws',\n",
              " 'huggingface:paws-x',\n",
              " 'huggingface:pec',\n",
              " 'huggingface:peer_read',\n",
              " 'huggingface:peoples_daily_ner',\n",
              " 'huggingface:per_sent',\n",
              " 'huggingface:persian_ner',\n",
              " 'huggingface:pg19',\n",
              " 'huggingface:php',\n",
              " 'huggingface:piaf',\n",
              " 'huggingface:pib',\n",
              " 'huggingface:piqa',\n",
              " 'huggingface:pn_summary',\n",
              " 'huggingface:poem_sentiment',\n",
              " 'huggingface:polemo2',\n",
              " 'huggingface:poleval2019_cyberbullying',\n",
              " 'huggingface:poleval2019_mt',\n",
              " 'huggingface:polsum',\n",
              " 'huggingface:polyglot_ner',\n",
              " 'huggingface:prachathai67k',\n",
              " 'huggingface:pragmeval',\n",
              " 'huggingface:proto_qa',\n",
              " 'huggingface:psc',\n",
              " 'huggingface:ptb_text_only',\n",
              " 'huggingface:pubmed',\n",
              " 'huggingface:pubmed_qa',\n",
              " 'huggingface:py_ast',\n",
              " 'huggingface:qa4mre',\n",
              " 'huggingface:qa_srl',\n",
              " 'huggingface:qa_zre',\n",
              " 'huggingface:qangaroo',\n",
              " 'huggingface:qanta',\n",
              " 'huggingface:qasc',\n",
              " 'huggingface:qasper',\n",
              " 'huggingface:qed',\n",
              " 'huggingface:qed_amara',\n",
              " 'huggingface:quac',\n",
              " 'huggingface:quail',\n",
              " 'huggingface:quarel',\n",
              " 'huggingface:quartz',\n",
              " 'huggingface:quickdraw',\n",
              " 'huggingface:quora',\n",
              " 'huggingface:quoref',\n",
              " 'huggingface:race',\n",
              " 'huggingface:re_dial',\n",
              " 'huggingface:reasoning_bg',\n",
              " 'huggingface:recipe_nlg',\n",
              " 'huggingface:reclor',\n",
              " 'huggingface:red_caps',\n",
              " 'huggingface:reddit',\n",
              " 'huggingface:reddit_tifu',\n",
              " 'huggingface:refresd',\n",
              " 'huggingface:reuters21578',\n",
              " 'huggingface:riddle_sense',\n",
              " 'huggingface:ro_sent',\n",
              " 'huggingface:ro_sts',\n",
              " 'huggingface:ro_sts_parallel',\n",
              " 'huggingface:roman_urdu',\n",
              " 'huggingface:roman_urdu_hate_speech',\n",
              " 'huggingface:ronec',\n",
              " 'huggingface:ropes',\n",
              " 'huggingface:rotten_tomatoes',\n",
              " 'huggingface:russian_super_glue',\n",
              " 'huggingface:rvl_cdip',\n",
              " 'huggingface:s2orc',\n",
              " 'huggingface:samsum',\n",
              " 'huggingface:sanskrit_classic',\n",
              " 'huggingface:saudinewsnet',\n",
              " 'huggingface:sberquad',\n",
              " 'huggingface:sbu_captions',\n",
              " 'huggingface:scan',\n",
              " 'huggingface:scb_mt_enth_2020',\n",
              " 'huggingface:scene_parse_150',\n",
              " 'huggingface:schema_guided_dstc8',\n",
              " 'huggingface:scicite',\n",
              " 'huggingface:scielo',\n",
              " 'huggingface:scientific_papers',\n",
              " 'huggingface:scifact',\n",
              " 'huggingface:sciq',\n",
              " 'huggingface:scitail',\n",
              " 'huggingface:scitldr',\n",
              " 'huggingface:search_qa',\n",
              " 'huggingface:sede',\n",
              " 'huggingface:selqa',\n",
              " 'huggingface:sem_eval_2010_task_8',\n",
              " 'huggingface:sem_eval_2014_task_1',\n",
              " 'huggingface:sem_eval_2018_task_1',\n",
              " 'huggingface:sem_eval_2020_task_11',\n",
              " 'huggingface:sent_comp',\n",
              " 'huggingface:senti_lex',\n",
              " 'huggingface:senti_ws',\n",
              " 'huggingface:sentiment140',\n",
              " ...]"
            ]
          },
          "metadata": {},
          "execution_count": 4
        }
      ],
      "source": [
        "tfds.list_builders()"
      ]
    },
    {
      "cell_type": "markdown",
      "metadata": {
        "id": "VjI6VgOBf0v0"
      },
      "source": [
        "## 加载数据集\n",
        "\n",
        "### tfds.load\n",
        "\n",
        "加载数据集最简单的方法是 `tfds.load`。它将执行以下操作：\n",
        "\n",
        "1. 下载数据并将其存储为 [`tfrecord`](https://tensorflow.google.cn/tutorials/load_data/tfrecord) 文件。\n",
        "2. 加载 `tfrecord` 并创建 `tf.data.Dataset`。\n"
      ]
    },
    {
      "cell_type": "code",
      "execution_count": 5,
      "metadata": {
        "id": "dCou80mnLLPV",
        "outputId": "e0213c83-4b37-4d38-b14f-69002eb10862",
        "colab": {
          "base_uri": "https://localhost:8080/",
          "height": 104,
          "referenced_widgets": [
            "e7abf524209d4be2b3eccf96d0319691",
            "33de17ffa8cc41f29c2dd568464a504f",
            "83fe66511a75416294b7c9ed93f57906",
            "c149e225513b42d79e58491069c1a67e",
            "7b6b3dc5598349778287bd10ce24ba02",
            "da4bb095d6484e9c9ed5a5f96ba713a7",
            "c2d97bbcddfe4308babfaadc437963af",
            "ced74ca189a34caa913200f11b1631a4",
            "730506a8023f4f47a79afaf0e30f82d8",
            "7d1bc882222e477db24c4a00fcbb6718",
            "5935b8fd64ef486cabf074ad31393711"
          ]
        }
      },
      "outputs": [
        {
          "output_type": "stream",
          "name": "stdout",
          "text": [
            "Downloading and preparing dataset 11.06 MiB (download: 11.06 MiB, generated: 21.00 MiB, total: 32.06 MiB) to /root/tensorflow_datasets/mnist/3.0.1...\n"
          ]
        },
        {
          "output_type": "display_data",
          "data": {
            "text/plain": [
              "Dl Completed...:   0%|          | 0/5 [00:00<?, ? file/s]"
            ],
            "application/vnd.jupyter.widget-view+json": {
              "version_major": 2,
              "version_minor": 0,
              "model_id": "e7abf524209d4be2b3eccf96d0319691"
            }
          },
          "metadata": {}
        },
        {
          "output_type": "stream",
          "name": "stdout",
          "text": [
            "Dataset mnist downloaded and prepared to /root/tensorflow_datasets/mnist/3.0.1. Subsequent calls will reuse this data.\n",
            "<_PrefetchDataset element_spec={'image': TensorSpec(shape=(28, 28, 1), dtype=tf.uint8, name=None), 'label': TensorSpec(shape=(), dtype=tf.int64, name=None)}>\n"
          ]
        }
      ],
      "source": [
        "ds = tfds.load('c4', split='train', shuffle_files=True)\n",
        "assert isinstance(ds, tf.data.Dataset)\n",
        "print(ds)"
      ]
    },
    {
      "cell_type": "markdown",
      "metadata": {
        "id": "byOXYCEJS7S6"
      },
      "source": [
        "一些常见的参数：\n",
        "\n",
        "- `split=`：要读取的拆分（例如 `'train'`、`['train', 'test']`、`'train[80%:]'`…）。请参阅我们的[拆分 API 指南](https://tensorflow.google.cn/datasets/splits)。\n",
        "- `shuffle_files=`：控制是否重排每个周期间的文件顺序（TFDS 以多个较小的文件存储大数据集）\n",
        "- `data_dir=`：数据集存储的位置（默认为 `~/tensorflow_datasets/`）\n",
        "- `with_info=True`：返回包含数据集元数据的 `tfds.core.DatasetInfo`\n",
        "- `download=False`：停用下载\n"
      ]
    },
    {
      "cell_type": "markdown",
      "metadata": {
        "id": "qeNmFx_1RXCb"
      },
      "source": [
        "### tfds.builder\n",
        "\n",
        "`tfds.load` 是 `tfds.core.DatasetBuilder` 的瘦封装容器。您可以使用 `tfds.core.DatasetBuilder` API 获得相同的输出："
      ]
    },
    {
      "cell_type": "code",
      "execution_count": null,
      "metadata": {
        "id": "2zN_jQ2ER40W"
      },
      "outputs": [],
      "source": [
        "builder = tfds.builder('mnist')\n",
        "# 1. Create the tfrecord files (no-op if already exists)\n",
        "builder.download_and_prepare()\n",
        "# 2. Load the `tf.data.Dataset`\n",
        "ds = builder.as_dataset(split='train', shuffle_files=True)\n",
        "print(ds)"
      ]
    },
    {
      "cell_type": "markdown",
      "metadata": {
        "id": "IwrjccfjoQCD"
      },
      "source": [
        "### `tfds build` CLI\n",
        "\n",
        "如果您希望生成一个特定的数据集，可以使用 [`tfds` 命令行](https://tensorflow.google.cn/datasets/cli)。例如：\n",
        "\n",
        "```sh\n",
        "tfds build mnist\n",
        "```\n",
        "\n",
        "请参阅[文档](https://tensorflow.google.cn/datasets/cli)查看可用标志。"
      ]
    },
    {
      "cell_type": "markdown",
      "metadata": {
        "id": "aW132I-rbJXE"
      },
      "source": [
        "## 迭代数据集\n",
        "\n",
        "### 作为字典\n",
        "\n",
        "默认情况下，`tf.data.Dataset` 对象包含 `tf.Tensor` 的 `dict`："
      ]
    },
    {
      "cell_type": "code",
      "execution_count": null,
      "metadata": {
        "id": "JAGjXdk_bIYQ"
      },
      "outputs": [],
      "source": [
        "ds = tfds.load('mnist', split='train')\n",
        "ds = ds.take(1)  # Only take a single example\n",
        "\n",
        "for example in ds:  # example is `{'image': tf.Tensor, 'label': tf.Tensor}`\n",
        "  print(list(example.keys()))\n",
        "  image = example[\"image\"]\n",
        "  label = example[\"label\"]\n",
        "  print(image.shape, label)"
      ]
    },
    {
      "cell_type": "markdown",
      "metadata": {
        "id": "sIqX2bmhu-8d"
      },
      "source": [
        "要找出 `dict` 键名和结构，请查看[我们目录](https://tensorflow.google.cn/datasets/catalog/overview#all_datasets)中的数据集文档。例如：[mnist 文档](https://tensorflow.google.cn/datasets/catalog/mnist)。"
      ]
    },
    {
      "cell_type": "markdown",
      "metadata": {
        "id": "umAtqBBqdkDG"
      },
      "source": [
        "### 作为元组（`as_supervised=True`）\n",
        "\n",
        "使用 `as_supervised=True`，您可以获取 `(features, label)` 元组作为替代的监督数据集。"
      ]
    },
    {
      "cell_type": "code",
      "execution_count": null,
      "metadata": {
        "id": "nJ4O0xy3djfV"
      },
      "outputs": [],
      "source": [
        "ds = tfds.load('mnist', split='train', as_supervised=True)\n",
        "ds = ds.take(1)\n",
        "\n",
        "for image, label in ds:  # example is (image, label)\n",
        "  print(image.shape, label)"
      ]
    },
    {
      "cell_type": "markdown",
      "metadata": {
        "id": "u9palgyHfEwQ"
      },
      "source": [
        "### 作为 numpy（`tfds.as_numpy`）\n",
        "\n",
        "使用 `tfds.as_numpy` 进行以下转换：\n",
        "\n",
        "- `tf.Tensor` -&gt; `np.array`\n",
        "- `tf.data.Dataset` -&gt; `Iterator[Tree[np.array]]`（`Tree` 可能是任意嵌套的 `Dict`、`Tuple`）\n"
      ]
    },
    {
      "cell_type": "code",
      "execution_count": null,
      "metadata": {
        "id": "tzQTCUkAfe9R"
      },
      "outputs": [],
      "source": [
        "ds = tfds.load('mnist', split='train', as_supervised=True)\n",
        "ds = ds.take(1)\n",
        "\n",
        "for image, label in tfds.as_numpy(ds):\n",
        "  print(type(image), type(label), label)"
      ]
    },
    {
      "cell_type": "markdown",
      "metadata": {
        "id": "XaRN-LdXUkl_"
      },
      "source": [
        "### 作为 batched tf.Tensor（`batch_size=-1`）\n",
        "\n",
        "使用 `batch_size=-1`，您可以在单个批次中加载完整的数据集。\n",
        "\n",
        "这可与 `as_supervised=True` 和 `tfds.as_numpy` 结合使用以获取 `(np.array, np.array)` 形式的数据：\n"
      ]
    },
    {
      "cell_type": "code",
      "execution_count": null,
      "metadata": {
        "id": "Gg8BNsv-UzFl"
      },
      "outputs": [],
      "source": [
        "image, label = tfds.as_numpy(tfds.load(\n",
        "    'mnist',\n",
        "    split='test',\n",
        "    batch_size=-1,\n",
        "    as_supervised=True,\n",
        "))\n",
        "\n",
        "print(type(image), image.shape)"
      ]
    },
    {
      "cell_type": "markdown",
      "metadata": {
        "id": "kRJrB3L6wgKI"
      },
      "source": [
        "请注意，您的数据集可以放入内存，并且所有样本都具有相同的形状。"
      ]
    },
    {
      "cell_type": "markdown",
      "metadata": {
        "id": "heaKNg7-X4jN"
      },
      "source": [
        "## 对您的数据集进行基准分析\n",
        "\n",
        "对数据集进行基准分析是对任何可迭代对象（例如 `tf.data.Dataset`、`tfds.as_numpy`…）的简单 `tfds.benchmark` 调用。\n"
      ]
    },
    {
      "cell_type": "code",
      "execution_count": null,
      "metadata": {
        "id": "ZyQzZ98bX3dM"
      },
      "outputs": [],
      "source": [
        "ds = tfds.load('mnist', split='train')\n",
        "ds = ds.batch(32).prefetch(1)\n",
        "\n",
        "tfds.benchmark(ds, batch_size=32)\n",
        "tfds.benchmark(ds, batch_size=32)  # Second epoch much faster due to auto-caching"
      ]
    },
    {
      "cell_type": "markdown",
      "metadata": {
        "id": "MT0yEX_4kYnV"
      },
      "source": [
        "- 不要忘记使用 `batch_size=` kwarg 对每个批次大小的结果进行归一化。\n",
        "- 总之，第一个预热批次与其他预热批次分开以捕获 `tf.data.Dataset` 额外的设置时间（例如缓冲区初始化…）。\n",
        "- 请注意，由于 [TFDS 自动缓存功能](https://tensorflow.google.cn/datasets/performances#auto-caching)，第二次迭代的速度要快得多。\n",
        "- `tfds.benchmark` 会返回 `tfds.core.BenchmarkResult` ，可以检查它以进行进一步分析。"
      ]
    },
    {
      "cell_type": "markdown",
      "metadata": {
        "id": "o-cuwvVbeb43"
      },
      "source": [
        "### 构建端到端流水线\n",
        "\n",
        "要想深入一点，您可以查看：\n",
        "\n",
        "- 我们的[端到端 Keras 示例](https://tensorflow.google.cn/datasets/keras_example)来了解完整的训练流水线（包括批处理、重排…）。\n",
        "- 有助于提高流水线速度的[性能指南](https://tensorflow.google.cn/datasets/performances)（提示：使用 `tfds.benchmark(ds)` 对数据集进行基准分析）。\n"
      ]
    },
    {
      "cell_type": "markdown",
      "metadata": {
        "id": "gTRTEQqscxAE"
      },
      "source": [
        "## 呈现\n",
        "\n",
        "### tfds.as_dataframe\n",
        "\n",
        "使用 `tfds.as_dataframe`，可以将 `tf.data.Dataset` 对象转换为 [`pandas.DataFrame`](https://pandas.pydata.org/pandas-docs/stable/reference/api/pandas.DataFrame.html) 以在 [Colab](https://colab.research.google.com) 上呈现。\n",
        "\n",
        "- 添加 `tfds.core.DatasetInfo` 作为 `tfds.as_dataframe` 的第二个参数以呈现图像、音频、文本、视频…\n",
        "- 使用 `ds.take(x)` 仅显示前 `x` 个样本。`pandas.DataFrame` 将在内存中加载完整数据集，并且显示开销可能非常高。"
      ]
    },
    {
      "cell_type": "code",
      "execution_count": null,
      "metadata": {
        "id": "FKouwN_yVSGQ"
      },
      "outputs": [],
      "source": [
        "ds, info = tfds.load('mnist', split='train', with_info=True)\n",
        "\n",
        "tfds.as_dataframe(ds.take(4), info)"
      ]
    },
    {
      "cell_type": "markdown",
      "metadata": {
        "id": "b-eDO_EXVGWC"
      },
      "source": [
        "### tfds.show_examples\n",
        "\n",
        "`tfds.show_examples` 返回 `matplotlib.figure.Figure`（现在只支持图像数据集）："
      ]
    },
    {
      "cell_type": "code",
      "execution_count": null,
      "metadata": {
        "id": "DpE2FD56cSQR"
      },
      "outputs": [],
      "source": [
        "ds, info = tfds.load('mnist', split='train', with_info=True)\n",
        "\n",
        "fig = tfds.show_examples(ds, info)"
      ]
    },
    {
      "cell_type": "markdown",
      "metadata": {
        "id": "Y0iVVStvk0oI"
      },
      "source": [
        "## 访问数据集元数据\n",
        "\n",
        "所有构建工具都包括一个包含数据集元数据的 `tfds.core.DatasetInfo` 对象。\n",
        "\n",
        "可以通过以下方式访问：\n",
        "\n",
        "- `tfds.load` API：\n"
      ]
    },
    {
      "cell_type": "code",
      "execution_count": null,
      "metadata": {
        "id": "UgLgtcd1ljzt"
      },
      "outputs": [],
      "source": [
        "ds, info = tfds.load('mnist', with_info=True)"
      ]
    },
    {
      "cell_type": "markdown",
      "metadata": {
        "id": "XodyqNXrlxTM"
      },
      "source": [
        "- `tfds.core.DatasetBuilder` API："
      ]
    },
    {
      "cell_type": "code",
      "execution_count": null,
      "metadata": {
        "id": "nmq97QkilxeL"
      },
      "outputs": [],
      "source": [
        "builder = tfds.builder('mnist')\n",
        "info = builder.info"
      ]
    },
    {
      "cell_type": "markdown",
      "metadata": {
        "id": "zMGOk_ZsmPeu"
      },
      "source": [
        "数据集信息包含有关数据集的附加信息（版本、引用、首页、描述…）。"
      ]
    },
    {
      "cell_type": "code",
      "execution_count": null,
      "metadata": {
        "id": "O-wLIKD-mZQT"
      },
      "outputs": [],
      "source": [
        "print(info)"
      ]
    },
    {
      "cell_type": "markdown",
      "metadata": {
        "id": "1zvAfRtwnAFk"
      },
      "source": [
        "### 特征元数据（标签名称、图像形状…）\n",
        "\n",
        "访问 `tfds.features.FeatureDict`："
      ]
    },
    {
      "cell_type": "code",
      "execution_count": null,
      "metadata": {
        "id": "RcyZXncqoFab"
      },
      "outputs": [],
      "source": [
        "info.features"
      ]
    },
    {
      "cell_type": "markdown",
      "metadata": {
        "id": "KAm9AV7loyw5"
      },
      "source": [
        "类、标签名的数量："
      ]
    },
    {
      "cell_type": "code",
      "execution_count": null,
      "metadata": {
        "id": "HhfzBH6qowpz"
      },
      "outputs": [],
      "source": [
        "print(info.features[\"label\"].num_classes)\n",
        "print(info.features[\"label\"].names)\n",
        "print(info.features[\"label\"].int2str(7))  # Human readable version (8 -> 'cat')\n",
        "print(info.features[\"label\"].str2int('7'))"
      ]
    },
    {
      "cell_type": "markdown",
      "metadata": {
        "id": "g5eWtk9ro_AK"
      },
      "source": [
        "形状、数据类型："
      ]
    },
    {
      "cell_type": "code",
      "execution_count": null,
      "metadata": {
        "id": "SergV_wQowLY"
      },
      "outputs": [],
      "source": [
        "print(info.features.shape)\n",
        "print(info.features.dtype)\n",
        "print(info.features['image'].shape)\n",
        "print(info.features['image'].dtype)"
      ]
    },
    {
      "cell_type": "markdown",
      "metadata": {
        "id": "thMOZ4IKm55N"
      },
      "source": [
        "### 拆分元数据（例如拆分名称、样本数量…）\n",
        "\n",
        "访问 `tfds.core.SplitDict`："
      ]
    },
    {
      "cell_type": "code",
      "execution_count": null,
      "metadata": {
        "id": "FBbfwA8Sp4ax"
      },
      "outputs": [],
      "source": [
        "print(info.splits)"
      ]
    },
    {
      "cell_type": "markdown",
      "metadata": {
        "id": "EVw1UVYa2HgN"
      },
      "source": [
        "可用拆分："
      ]
    },
    {
      "cell_type": "code",
      "execution_count": null,
      "metadata": {
        "id": "fRBieOOquDzX"
      },
      "outputs": [],
      "source": [
        "print(list(info.splits.keys()))"
      ]
    },
    {
      "cell_type": "markdown",
      "metadata": {
        "id": "iHW0VfA0t3dO"
      },
      "source": [
        "获取有关个别拆分的信息："
      ]
    },
    {
      "cell_type": "code",
      "execution_count": null,
      "metadata": {
        "id": "-h_OSpRsqKpP"
      },
      "outputs": [],
      "source": [
        "print(info.splits['train'].num_examples)\n",
        "print(info.splits['train'].filenames)\n",
        "print(info.splits['train'].num_shards)"
      ]
    },
    {
      "cell_type": "markdown",
      "metadata": {
        "id": "fWhSkHFNuLwW"
      },
      "source": [
        "它也适用于 subsplit API："
      ]
    },
    {
      "cell_type": "code",
      "execution_count": null,
      "metadata": {
        "id": "HO5irBZ3uIzQ"
      },
      "outputs": [],
      "source": [
        "print(info.splits['train[15%:75%]'].num_examples)\n",
        "print(info.splits['train[15%:75%]'].file_instructions)"
      ]
    },
    {
      "cell_type": "markdown",
      "metadata": {
        "id": "YZp2XJwQQrI0"
      },
      "source": [
        "## 问题排查\n",
        "\n",
        "### 手动下载（如果下载失败）\n",
        "\n",
        "如果由于某种原因下载失败（例如离线…），那么您始终可以自己手动下载数据并将其放置在 `manual_dir` 中（默认为 `~/tensorflow_datasets/download/manual/`）。\n",
        "\n",
        "要找到下载网址，请查看：\n",
        "\n",
        "- 对于新数据集（作为文件夹实现）：[`tensorflow_datasets/`](https://github.com/tensorflow/datasets/tree/master/tensorflow_datasets/)`<type>/<dataset_name>/checksums.tsv`。例如：[`tensorflow_datasets/datasets/bool_q/checksums.tsv`](https://github.com/tensorflow/datasets/blob/master/tensorflow_datasets/datasets/bool_q/checksums.tsv)。\n",
        "\n",
        "    您可以在[我们的目录](https://tensorflow.google.cn/datasets/catalog/overview)中找到数据集的源位置。\n",
        "\n",
        "- 对于旧数据集：[`tensorflow_datasets/url_checksums/<dataset_name>.txt`](https://github.com/tensorflow/datasets/tree/master/tensorflow_datasets/url_checksums)\n",
        "\n",
        "### 修正 `NonMatchingChecksumError`\n",
        "\n",
        "TFDS 通过验证下载网址的校验和来确保确定性。如果引发 `NonMatchingChecksumError`，则可能表示：\n",
        "\n",
        "- 网站可能宕机（如 `503 status code`）。请检查网址。\n",
        "- 对于 Google 云端硬盘网址，请稍后再试。当很多人访问同一网址时云端硬盘有时拒绝下载。请参阅[错误](https://github.com/tensorflow/datasets/issues/1482)\n",
        "- 原始数据集文件可能已更新。在这种情况下，应当更新 TFDS 数据集构建工具。请打开一个新的 Github 议题或拉取请求：\n",
        "    - 使用 `tfds build --register_checksums` 注册新的校验和\n",
        "    - 逐步更新数据集生成代码。\n",
        "    - 更新数据集 `VERSION`\n",
        "    - 更新数据集 `RELEASE_NOTES`：是什么导致校验和发生变化？一些样本发生了改变吗？\n",
        "    - 确保数据集仍能够构建。\n",
        "    - 向我们发送拉取请求\n",
        "\n",
        "注：您也可以检查 `~/tensorflow_datasets/download/` 中的下载文件。\n"
      ]
    },
    {
      "cell_type": "markdown",
      "metadata": {
        "id": "GmeeOokMODg2"
      },
      "source": [
        "## 引用\n",
        "\n",
        "如果您在论文中使用 `tensorflow-datasets`，除了特定于所用数据集（可以在[数据集目录](https://tensorflow.google.cn/datasets/catalog/overview)中找到）的任何引用之外，请包含以下引用。\n",
        "\n",
        "```\n",
        "@misc{TFDS,\n",
        "  title = { {TensorFlow Datasets}, A collection of ready-to-use datasets},\n",
        "  howpublished = {\\url{https://tensorflow.google.cn/datasets}},\n",
        "}\n",
        "```"
      ]
    }
  ],
  "metadata": {
    "colab": {
      "name": "overview.ipynb",
      "toc_visible": true,
      "provenance": []
    },
    "kernelspec": {
      "display_name": "Python 3",
      "name": "python3"
    },
    "widgets": {
      "application/vnd.jupyter.widget-state+json": {
        "e7abf524209d4be2b3eccf96d0319691": {
          "model_module": "@jupyter-widgets/controls",
          "model_name": "HBoxModel",
          "model_module_version": "1.5.0",
          "state": {
            "_dom_classes": [],
            "_model_module": "@jupyter-widgets/controls",
            "_model_module_version": "1.5.0",
            "_model_name": "HBoxModel",
            "_view_count": null,
            "_view_module": "@jupyter-widgets/controls",
            "_view_module_version": "1.5.0",
            "_view_name": "HBoxView",
            "box_style": "",
            "children": [
              "IPY_MODEL_33de17ffa8cc41f29c2dd568464a504f",
              "IPY_MODEL_83fe66511a75416294b7c9ed93f57906",
              "IPY_MODEL_c149e225513b42d79e58491069c1a67e"
            ],
            "layout": "IPY_MODEL_7b6b3dc5598349778287bd10ce24ba02"
          }
        },
        "33de17ffa8cc41f29c2dd568464a504f": {
          "model_module": "@jupyter-widgets/controls",
          "model_name": "HTMLModel",
          "model_module_version": "1.5.0",
          "state": {
            "_dom_classes": [],
            "_model_module": "@jupyter-widgets/controls",
            "_model_module_version": "1.5.0",
            "_model_name": "HTMLModel",
            "_view_count": null,
            "_view_module": "@jupyter-widgets/controls",
            "_view_module_version": "1.5.0",
            "_view_name": "HTMLView",
            "description": "",
            "description_tooltip": null,
            "layout": "IPY_MODEL_da4bb095d6484e9c9ed5a5f96ba713a7",
            "placeholder": "​",
            "style": "IPY_MODEL_c2d97bbcddfe4308babfaadc437963af",
            "value": "Dl Completed...: 100%"
          }
        },
        "83fe66511a75416294b7c9ed93f57906": {
          "model_module": "@jupyter-widgets/controls",
          "model_name": "FloatProgressModel",
          "model_module_version": "1.5.0",
          "state": {
            "_dom_classes": [],
            "_model_module": "@jupyter-widgets/controls",
            "_model_module_version": "1.5.0",
            "_model_name": "FloatProgressModel",
            "_view_count": null,
            "_view_module": "@jupyter-widgets/controls",
            "_view_module_version": "1.5.0",
            "_view_name": "ProgressView",
            "bar_style": "success",
            "description": "",
            "description_tooltip": null,
            "layout": "IPY_MODEL_ced74ca189a34caa913200f11b1631a4",
            "max": 5,
            "min": 0,
            "orientation": "horizontal",
            "style": "IPY_MODEL_730506a8023f4f47a79afaf0e30f82d8",
            "value": 5
          }
        },
        "c149e225513b42d79e58491069c1a67e": {
          "model_module": "@jupyter-widgets/controls",
          "model_name": "HTMLModel",
          "model_module_version": "1.5.0",
          "state": {
            "_dom_classes": [],
            "_model_module": "@jupyter-widgets/controls",
            "_model_module_version": "1.5.0",
            "_model_name": "HTMLModel",
            "_view_count": null,
            "_view_module": "@jupyter-widgets/controls",
            "_view_module_version": "1.5.0",
            "_view_name": "HTMLView",
            "description": "",
            "description_tooltip": null,
            "layout": "IPY_MODEL_7d1bc882222e477db24c4a00fcbb6718",
            "placeholder": "​",
            "style": "IPY_MODEL_5935b8fd64ef486cabf074ad31393711",
            "value": " 5/5 [00:00&lt;00:00,  9.15 file/s]"
          }
        },
        "7b6b3dc5598349778287bd10ce24ba02": {
          "model_module": "@jupyter-widgets/base",
          "model_name": "LayoutModel",
          "model_module_version": "1.2.0",
          "state": {
            "_model_module": "@jupyter-widgets/base",
            "_model_module_version": "1.2.0",
            "_model_name": "LayoutModel",
            "_view_count": null,
            "_view_module": "@jupyter-widgets/base",
            "_view_module_version": "1.2.0",
            "_view_name": "LayoutView",
            "align_content": null,
            "align_items": null,
            "align_self": null,
            "border": null,
            "bottom": null,
            "display": null,
            "flex": null,
            "flex_flow": null,
            "grid_area": null,
            "grid_auto_columns": null,
            "grid_auto_flow": null,
            "grid_auto_rows": null,
            "grid_column": null,
            "grid_gap": null,
            "grid_row": null,
            "grid_template_areas": null,
            "grid_template_columns": null,
            "grid_template_rows": null,
            "height": null,
            "justify_content": null,
            "justify_items": null,
            "left": null,
            "margin": null,
            "max_height": null,
            "max_width": null,
            "min_height": null,
            "min_width": null,
            "object_fit": null,
            "object_position": null,
            "order": null,
            "overflow": null,
            "overflow_x": null,
            "overflow_y": null,
            "padding": null,
            "right": null,
            "top": null,
            "visibility": null,
            "width": null
          }
        },
        "da4bb095d6484e9c9ed5a5f96ba713a7": {
          "model_module": "@jupyter-widgets/base",
          "model_name": "LayoutModel",
          "model_module_version": "1.2.0",
          "state": {
            "_model_module": "@jupyter-widgets/base",
            "_model_module_version": "1.2.0",
            "_model_name": "LayoutModel",
            "_view_count": null,
            "_view_module": "@jupyter-widgets/base",
            "_view_module_version": "1.2.0",
            "_view_name": "LayoutView",
            "align_content": null,
            "align_items": null,
            "align_self": null,
            "border": null,
            "bottom": null,
            "display": null,
            "flex": null,
            "flex_flow": null,
            "grid_area": null,
            "grid_auto_columns": null,
            "grid_auto_flow": null,
            "grid_auto_rows": null,
            "grid_column": null,
            "grid_gap": null,
            "grid_row": null,
            "grid_template_areas": null,
            "grid_template_columns": null,
            "grid_template_rows": null,
            "height": null,
            "justify_content": null,
            "justify_items": null,
            "left": null,
            "margin": null,
            "max_height": null,
            "max_width": null,
            "min_height": null,
            "min_width": null,
            "object_fit": null,
            "object_position": null,
            "order": null,
            "overflow": null,
            "overflow_x": null,
            "overflow_y": null,
            "padding": null,
            "right": null,
            "top": null,
            "visibility": null,
            "width": null
          }
        },
        "c2d97bbcddfe4308babfaadc437963af": {
          "model_module": "@jupyter-widgets/controls",
          "model_name": "DescriptionStyleModel",
          "model_module_version": "1.5.0",
          "state": {
            "_model_module": "@jupyter-widgets/controls",
            "_model_module_version": "1.5.0",
            "_model_name": "DescriptionStyleModel",
            "_view_count": null,
            "_view_module": "@jupyter-widgets/base",
            "_view_module_version": "1.2.0",
            "_view_name": "StyleView",
            "description_width": ""
          }
        },
        "ced74ca189a34caa913200f11b1631a4": {
          "model_module": "@jupyter-widgets/base",
          "model_name": "LayoutModel",
          "model_module_version": "1.2.0",
          "state": {
            "_model_module": "@jupyter-widgets/base",
            "_model_module_version": "1.2.0",
            "_model_name": "LayoutModel",
            "_view_count": null,
            "_view_module": "@jupyter-widgets/base",
            "_view_module_version": "1.2.0",
            "_view_name": "LayoutView",
            "align_content": null,
            "align_items": null,
            "align_self": null,
            "border": null,
            "bottom": null,
            "display": null,
            "flex": null,
            "flex_flow": null,
            "grid_area": null,
            "grid_auto_columns": null,
            "grid_auto_flow": null,
            "grid_auto_rows": null,
            "grid_column": null,
            "grid_gap": null,
            "grid_row": null,
            "grid_template_areas": null,
            "grid_template_columns": null,
            "grid_template_rows": null,
            "height": null,
            "justify_content": null,
            "justify_items": null,
            "left": null,
            "margin": null,
            "max_height": null,
            "max_width": null,
            "min_height": null,
            "min_width": null,
            "object_fit": null,
            "object_position": null,
            "order": null,
            "overflow": null,
            "overflow_x": null,
            "overflow_y": null,
            "padding": null,
            "right": null,
            "top": null,
            "visibility": null,
            "width": null
          }
        },
        "730506a8023f4f47a79afaf0e30f82d8": {
          "model_module": "@jupyter-widgets/controls",
          "model_name": "ProgressStyleModel",
          "model_module_version": "1.5.0",
          "state": {
            "_model_module": "@jupyter-widgets/controls",
            "_model_module_version": "1.5.0",
            "_model_name": "ProgressStyleModel",
            "_view_count": null,
            "_view_module": "@jupyter-widgets/base",
            "_view_module_version": "1.2.0",
            "_view_name": "StyleView",
            "bar_color": null,
            "description_width": ""
          }
        },
        "7d1bc882222e477db24c4a00fcbb6718": {
          "model_module": "@jupyter-widgets/base",
          "model_name": "LayoutModel",
          "model_module_version": "1.2.0",
          "state": {
            "_model_module": "@jupyter-widgets/base",
            "_model_module_version": "1.2.0",
            "_model_name": "LayoutModel",
            "_view_count": null,
            "_view_module": "@jupyter-widgets/base",
            "_view_module_version": "1.2.0",
            "_view_name": "LayoutView",
            "align_content": null,
            "align_items": null,
            "align_self": null,
            "border": null,
            "bottom": null,
            "display": null,
            "flex": null,
            "flex_flow": null,
            "grid_area": null,
            "grid_auto_columns": null,
            "grid_auto_flow": null,
            "grid_auto_rows": null,
            "grid_column": null,
            "grid_gap": null,
            "grid_row": null,
            "grid_template_areas": null,
            "grid_template_columns": null,
            "grid_template_rows": null,
            "height": null,
            "justify_content": null,
            "justify_items": null,
            "left": null,
            "margin": null,
            "max_height": null,
            "max_width": null,
            "min_height": null,
            "min_width": null,
            "object_fit": null,
            "object_position": null,
            "order": null,
            "overflow": null,
            "overflow_x": null,
            "overflow_y": null,
            "padding": null,
            "right": null,
            "top": null,
            "visibility": null,
            "width": null
          }
        },
        "5935b8fd64ef486cabf074ad31393711": {
          "model_module": "@jupyter-widgets/controls",
          "model_name": "DescriptionStyleModel",
          "model_module_version": "1.5.0",
          "state": {
            "_model_module": "@jupyter-widgets/controls",
            "_model_module_version": "1.5.0",
            "_model_name": "DescriptionStyleModel",
            "_view_count": null,
            "_view_module": "@jupyter-widgets/base",
            "_view_module_version": "1.2.0",
            "_view_name": "StyleView",
            "description_width": ""
          }
        }
      }
    }
  },
  "nbformat": 4,
  "nbformat_minor": 0
}